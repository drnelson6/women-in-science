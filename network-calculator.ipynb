{
 "cells": [
  {
   "cell_type": "code",
   "execution_count": 48,
   "id": "ad26c2d2",
   "metadata": {},
   "outputs": [],
   "source": [
    "import csv\n",
    "import networkx as nx\n",
    "\n",
    "from bokeh.io import output_file, show\n",
    "from bokeh.plotting import figure, from_networkx\n",
    "from bokeh.models import (Circle, MultiLine, HoverTool, BoxZoomTool)\n",
    "\n",
    "# import json"
   ]
  },
  {
   "cell_type": "code",
   "execution_count": 20,
   "id": "a3379712",
   "metadata": {},
   "outputs": [],
   "source": [
    "with open('wis-edge-list.csv', 'r') as f:\n",
    "    edge_reader = csv.DictReader(f)\n",
    "    all_names = []\n",
    "    edges = []\n",
    "    for row in edge_reader:\n",
    "        all_names.append(row['correspondent_a'])\n",
    "        all_names.append(row['correspondent_b'])\n",
    "        edge = (row['correspondent_a'], row['correspondent_b'],\n",
    "                {'relation': row['relation']})\n",
    "        edges.append(edge)\n",
    "    uniques = set(all_names)"
   ]
  },
  {
   "cell_type": "code",
   "execution_count": 21,
   "id": "41041647",
   "metadata": {},
   "outputs": [],
   "source": [
    "G = nx.Graph()\n",
    "G.add_edges_from(edges)\n",
    "G.add_node('Women in Science Collections at the APS')\n",
    "G.add_nodes_from(uniques)\n",
    "G.add_edges_from([('Women in Science Collections at the APS',\n",
    "                   'Barbara McClintock'),\n",
    "                  ('Women in Science Collections at the APS',\n",
    "                   'Florence Rena Sabin'),\n",
    "                  ('Women in Science Collections at the APS',\n",
    "                   'Florence Barbara Seibert')])"
   ]
  },
  {
   "cell_type": "code",
   "execution_count": 49,
   "id": "864727c2",
   "metadata": {},
   "outputs": [],
   "source": [
    "plot = figure(title=\"Networkx Integration Demonstration\")\n",
    "\n",
    "node_hover_tool = HoverTool(tooltips=[(\"index\", \"@index\")])\n",
    "plot.add_tools(node_hover_tool, BoxZoomTool())\n",
    "\n",
    "graph = from_networkx(G, nx.spring_layout, scale=2, center=(0,0))\n",
    "graph.node_renderer.glyph = Circle(size=7, fill_color='green')\n",
    "graph.edge_renderer.glyph = MultiLine(line_color='tomato', line_alpha=0.8, line_width=1)\n",
    "plot.renderers.append(graph)\n",
    "\n",
    "plot.sizing_mode = 'scale_height'\n",
    "\n",
    "output_file(\"networkx_graph.html\")\n",
    "show(plot)"
   ]
  },
  {
   "cell_type": "code",
   "execution_count": null,
   "id": "cbfe07a3",
   "metadata": {},
   "outputs": [],
   "source": []
  }
 ],
 "metadata": {
  "kernelspec": {
   "display_name": "Python 3 (ipykernel)",
   "language": "python",
   "name": "python3"
  },
  "language_info": {
   "codemirror_mode": {
    "name": "ipython",
    "version": 3
   },
   "file_extension": ".py",
   "mimetype": "text/x-python",
   "name": "python",
   "nbconvert_exporter": "python",
   "pygments_lexer": "ipython3",
   "version": "3.9.7"
  }
 },
 "nbformat": 4,
 "nbformat_minor": 5
}
