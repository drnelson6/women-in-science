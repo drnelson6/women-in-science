{
 "cells": [
  {
   "cell_type": "code",
   "execution_count": 15,
   "id": "1ab6fdab",
   "metadata": {},
   "outputs": [],
   "source": [
    "from bokeh.plotting import figure, show"
   ]
  },
  {
   "cell_type": "code",
   "execution_count": 16,
   "id": "efcceb1f",
   "metadata": {},
   "outputs": [],
   "source": [
    "x = [1, 2, 3, 4, 5]\n",
    "y1 = [6, 7, 2, 4, 5]\n",
    "y2 = [2, 3, 4, 5, 6]\n",
    "y3 = [4, 5, 5, 7, 2]"
   ]
  },
  {
   "cell_type": "code",
   "execution_count": 21,
   "id": "e07a72a9",
   "metadata": {},
   "outputs": [],
   "source": [
    "plot = figure(title='Simple Plot Example',\n",
    "              width=1500,\n",
    "              height=1000,\n",
    "              x_axis_label='x',\n",
    "              y_axis_label='y'\n",
    "             )\n",
    "plot.line(x, y1, legend_label='Temp,', color='blue', line_width=2)\n",
    "plot.vbar(x=x, top=y2, legend_label='Rate', width=0.5, bottom=0, color='red')\n",
    "plot.circle(x, y3,legend_label='Objects', color='yellow', size=15)\n",
    "show(plot)"
   ]
  },
  {
   "cell_type": "code",
   "execution_count": null,
   "id": "9b5c7c94",
   "metadata": {},
   "outputs": [],
   "source": []
  }
 ],
 "metadata": {
  "kernelspec": {
   "display_name": "Python 3 (ipykernel)",
   "language": "python",
   "name": "python3"
  },
  "language_info": {
   "codemirror_mode": {
    "name": "ipython",
    "version": 3
   },
   "file_extension": ".py",
   "mimetype": "text/x-python",
   "name": "python",
   "nbconvert_exporter": "python",
   "pygments_lexer": "ipython3",
   "version": "3.9.7"
  }
 },
 "nbformat": 4,
 "nbformat_minor": 5
}
